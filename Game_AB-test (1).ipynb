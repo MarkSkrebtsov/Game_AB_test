{
 "cells": [
  {
   "cell_type": "markdown",
   "id": "a7c032be",
   "metadata": {},
   "source": [
    "# Импортирование библиотек и загрузка датасета"
   ]
  },
  {
   "cell_type": "code",
   "execution_count": 1,
   "id": "720bc4b4",
   "metadata": {},
   "outputs": [],
   "source": [
    "import pandas as pd\n",
    "import matplotlib.pyplot as plt\n",
    "import numpy as np\n",
    "from tqdm.notebook import tqdm\n",
    "import scipy.stats as st\n",
    "import statsmodels.api as sm\n",
    "from statsmodels.formula.api import ols"
   ]
  },
  {
   "cell_type": "markdown",
   "id": "5a08d78a",
   "metadata": {},
   "source": [
    "Данные  \n",
    "\n",
    "Игра содержит особое событие – ивент, для прохождения которого пользователи могут тратить деньги. Группа дизайнеров решила поменять вид окошка покупки ивентовых продуктов. Чтобы оценить результат нововведения, провели АБ тест, разделив пользователей на две группы: контрольную и тестовую (с окошком нового типа). \n",
    "\n",
    "Задача  \n",
    "Исследовать какая из АБ групп лучше себя показала.\n",
    "Результаты предоставить в понятной для широкой аудитории форме, сопроводив по необходимости графиками/дашбордами/числами.\n",
    "Колонки\n",
    "1. AbGroup – имя АБ группы: Control/Test\n",
    "2. user_id – id пользователя\n",
    "3. time_stamp – день события\n",
    "4. install_date – день установки приложения пользователем\n",
    "5. event_name – техническое название события (InAppPurchase - в случае покупки за деньги, ResourceSpend в случае покупки за игровую валюту)\n",
    "6. platform – платформа google / itunes\n",
    "7. network_name – пользователь установил игру по переходу с рекламы (Paid) или нет (Organic)\n",
    "8. country_name – страна пользователя\n",
    "9. InGameTime – сколько всего пользователь провел в игре секунд\n",
    "10. LastCompletedLevel – номер последнего пройденного уровня\n",
    "11. avg_energy_amount – сколько в среднем энергии было у пользователя за день\n",
    "12. revenue_on_event – ревеню, потраченное на покупку ивентовых продуктов\n",
    "13. revenue_on_other_activities – ревеню, потраченное на остальные продукты, включая золото\n",
    "14. gold_on_event – золото, потраченное на ивентный прогресс\n",
    "15. gold_on_other_activities – золото, потраченное на другие продукты\n",
    "\n",
    "https://drive.google.com/file/d/1ynnyIKbT64yoi0IpMd_Gs3I-n1m61QT-/view?usp=sharing"
   ]
  },
  {
   "cell_type": "code",
   "execution_count": 2,
   "id": "b99ad5bd",
   "metadata": {},
   "outputs": [],
   "source": [
    "df = pd.read_csv('C:/Users/marcs/Downloads/test_task_product_analyst_2021_20210427.csv')"
   ]
  },
  {
   "cell_type": "markdown",
   "id": "6fb94766",
   "metadata": {},
   "source": [
    "# Анализ данных"
   ]
  },
  {
   "cell_type": "code",
   "execution_count": 3,
   "id": "787f562f",
   "metadata": {},
   "outputs": [
    {
     "data": {
      "text/html": [
       "<div>\n",
       "<style scoped>\n",
       "    .dataframe tbody tr th:only-of-type {\n",
       "        vertical-align: middle;\n",
       "    }\n",
       "\n",
       "    .dataframe tbody tr th {\n",
       "        vertical-align: top;\n",
       "    }\n",
       "\n",
       "    .dataframe thead th {\n",
       "        text-align: right;\n",
       "    }\n",
       "</style>\n",
       "<table border=\"1\" class=\"dataframe\">\n",
       "  <thead>\n",
       "    <tr style=\"text-align: right;\">\n",
       "      <th></th>\n",
       "      <th>AbGroup</th>\n",
       "      <th>user_id</th>\n",
       "      <th>time_stamp</th>\n",
       "      <th>install_date</th>\n",
       "      <th>event_name</th>\n",
       "      <th>platform</th>\n",
       "      <th>network_name</th>\n",
       "      <th>country_name</th>\n",
       "      <th>InGameTime</th>\n",
       "      <th>LastCompletedLevel</th>\n",
       "      <th>avg_energy_amount</th>\n",
       "      <th>revenue_on_event</th>\n",
       "      <th>revenue_on_other_activities</th>\n",
       "      <th>gold_on_event</th>\n",
       "      <th>gold_on_other_activities</th>\n",
       "    </tr>\n",
       "  </thead>\n",
       "  <tbody>\n",
       "    <tr>\n",
       "      <th>0</th>\n",
       "      <td>Control</td>\n",
       "      <td>d60ebcaecff2dc1d360a8a41271e6fd8a902c107</td>\n",
       "      <td>2020-02-10</td>\n",
       "      <td>2019-11-10</td>\n",
       "      <td>ResourceSpend</td>\n",
       "      <td>itunes</td>\n",
       "      <td>Organic</td>\n",
       "      <td>United Kingdom of Great Britain and Northern I...</td>\n",
       "      <td>276180</td>\n",
       "      <td>345</td>\n",
       "      <td>54.0</td>\n",
       "      <td>0.0</td>\n",
       "      <td>0.0</td>\n",
       "      <td>NaN</td>\n",
       "      <td>NaN</td>\n",
       "    </tr>\n",
       "    <tr>\n",
       "      <th>1</th>\n",
       "      <td>Test</td>\n",
       "      <td>f6e385b0ab43d5aea9cfcc408aa84029a4ea5fdb</td>\n",
       "      <td>2020-03-04</td>\n",
       "      <td>2019-11-05</td>\n",
       "      <td>ResourceSpend</td>\n",
       "      <td>itunes</td>\n",
       "      <td>Paid</td>\n",
       "      <td>United States of America</td>\n",
       "      <td>166095</td>\n",
       "      <td>199</td>\n",
       "      <td>50.0</td>\n",
       "      <td>0.0</td>\n",
       "      <td>0.0</td>\n",
       "      <td>NaN</td>\n",
       "      <td>NaN</td>\n",
       "    </tr>\n",
       "    <tr>\n",
       "      <th>2</th>\n",
       "      <td>Control</td>\n",
       "      <td>a4c80c8524e2c11cc238553d7b02da01ce2aad66</td>\n",
       "      <td>2020-02-26</td>\n",
       "      <td>2020-01-02</td>\n",
       "      <td>ResourceSpend</td>\n",
       "      <td>itunes</td>\n",
       "      <td>Paid</td>\n",
       "      <td>Canada</td>\n",
       "      <td>240986</td>\n",
       "      <td>84</td>\n",
       "      <td>39.0</td>\n",
       "      <td>0.0</td>\n",
       "      <td>0.0</td>\n",
       "      <td>NaN</td>\n",
       "      <td>NaN</td>\n",
       "    </tr>\n",
       "    <tr>\n",
       "      <th>3</th>\n",
       "      <td>Control</td>\n",
       "      <td>7ea2e4599ae33760c307e254839317bd5b17a63c</td>\n",
       "      <td>2020-02-21</td>\n",
       "      <td>2020-01-13</td>\n",
       "      <td>ResourceSpend</td>\n",
       "      <td>itunes</td>\n",
       "      <td>Organic</td>\n",
       "      <td>France</td>\n",
       "      <td>989822</td>\n",
       "      <td>1176</td>\n",
       "      <td>21.0</td>\n",
       "      <td>0.0</td>\n",
       "      <td>0.0</td>\n",
       "      <td>NaN</td>\n",
       "      <td>NaN</td>\n",
       "    </tr>\n",
       "    <tr>\n",
       "      <th>4</th>\n",
       "      <td>Control</td>\n",
       "      <td>6495168982929360dc6d84bf0766d8963a7ddc41</td>\n",
       "      <td>2020-02-18</td>\n",
       "      <td>2020-02-05</td>\n",
       "      <td>ResourceSpend</td>\n",
       "      <td>itunes</td>\n",
       "      <td>Paid</td>\n",
       "      <td>Spain</td>\n",
       "      <td>52106</td>\n",
       "      <td>66</td>\n",
       "      <td>43.0</td>\n",
       "      <td>0.0</td>\n",
       "      <td>0.0</td>\n",
       "      <td>500.0</td>\n",
       "      <td>NaN</td>\n",
       "    </tr>\n",
       "  </tbody>\n",
       "</table>\n",
       "</div>"
      ],
      "text/plain": [
       "   AbGroup                                   user_id  time_stamp install_date  \\\n",
       "0  Control  d60ebcaecff2dc1d360a8a41271e6fd8a902c107  2020-02-10   2019-11-10   \n",
       "1     Test  f6e385b0ab43d5aea9cfcc408aa84029a4ea5fdb  2020-03-04   2019-11-05   \n",
       "2  Control  a4c80c8524e2c11cc238553d7b02da01ce2aad66  2020-02-26   2020-01-02   \n",
       "3  Control  7ea2e4599ae33760c307e254839317bd5b17a63c  2020-02-21   2020-01-13   \n",
       "4  Control  6495168982929360dc6d84bf0766d8963a7ddc41  2020-02-18   2020-02-05   \n",
       "\n",
       "      event_name platform network_name  \\\n",
       "0  ResourceSpend   itunes      Organic   \n",
       "1  ResourceSpend   itunes         Paid   \n",
       "2  ResourceSpend   itunes         Paid   \n",
       "3  ResourceSpend   itunes      Organic   \n",
       "4  ResourceSpend   itunes         Paid   \n",
       "\n",
       "                                        country_name  InGameTime  \\\n",
       "0  United Kingdom of Great Britain and Northern I...      276180   \n",
       "1                           United States of America      166095   \n",
       "2                                             Canada      240986   \n",
       "3                                             France      989822   \n",
       "4                                              Spain       52106   \n",
       "\n",
       "   LastCompletedLevel  avg_energy_amount  revenue_on_event  \\\n",
       "0                 345               54.0               0.0   \n",
       "1                 199               50.0               0.0   \n",
       "2                  84               39.0               0.0   \n",
       "3                1176               21.0               0.0   \n",
       "4                  66               43.0               0.0   \n",
       "\n",
       "   revenue_on_other_activities  gold_on_event  gold_on_other_activities  \n",
       "0                          0.0            NaN                       NaN  \n",
       "1                          0.0            NaN                       NaN  \n",
       "2                          0.0            NaN                       NaN  \n",
       "3                          0.0            NaN                       NaN  \n",
       "4                          0.0          500.0                       NaN  "
      ]
     },
     "execution_count": 3,
     "metadata": {},
     "output_type": "execute_result"
    }
   ],
   "source": [
    "df.head()"
   ]
  },
  {
   "cell_type": "code",
   "execution_count": 4,
   "id": "a256096c",
   "metadata": {},
   "outputs": [
    {
     "data": {
      "text/html": [
       "<div>\n",
       "<style scoped>\n",
       "    .dataframe tbody tr th:only-of-type {\n",
       "        vertical-align: middle;\n",
       "    }\n",
       "\n",
       "    .dataframe tbody tr th {\n",
       "        vertical-align: top;\n",
       "    }\n",
       "\n",
       "    .dataframe thead th {\n",
       "        text-align: right;\n",
       "    }\n",
       "</style>\n",
       "<table border=\"1\" class=\"dataframe\">\n",
       "  <thead>\n",
       "    <tr style=\"text-align: right;\">\n",
       "      <th></th>\n",
       "      <th>InGameTime</th>\n",
       "      <th>LastCompletedLevel</th>\n",
       "      <th>avg_energy_amount</th>\n",
       "      <th>revenue_on_event</th>\n",
       "      <th>revenue_on_other_activities</th>\n",
       "      <th>gold_on_event</th>\n",
       "      <th>gold_on_other_activities</th>\n",
       "    </tr>\n",
       "  </thead>\n",
       "  <tbody>\n",
       "    <tr>\n",
       "      <th>count</th>\n",
       "      <td>6.968400e+05</td>\n",
       "      <td>696840.000000</td>\n",
       "      <td>6.968400e+05</td>\n",
       "      <td>696840.0</td>\n",
       "      <td>696840.0</td>\n",
       "      <td>45412.000000</td>\n",
       "      <td>168193.000000</td>\n",
       "    </tr>\n",
       "    <tr>\n",
       "      <th>mean</th>\n",
       "      <td>2.448543e+06</td>\n",
       "      <td>426.099963</td>\n",
       "      <td>1.485821e+05</td>\n",
       "      <td>0.0</td>\n",
       "      <td>0.0</td>\n",
       "      <td>1992.865322</td>\n",
       "      <td>936.481899</td>\n",
       "    </tr>\n",
       "    <tr>\n",
       "      <th>std</th>\n",
       "      <td>1.210664e+08</td>\n",
       "      <td>434.405962</td>\n",
       "      <td>1.764010e+07</td>\n",
       "      <td>0.0</td>\n",
       "      <td>0.0</td>\n",
       "      <td>3895.541280</td>\n",
       "      <td>3522.989145</td>\n",
       "    </tr>\n",
       "    <tr>\n",
       "      <th>min</th>\n",
       "      <td>-2.128381e+09</td>\n",
       "      <td>-1.000000</td>\n",
       "      <td>0.000000e+00</td>\n",
       "      <td>0.0</td>\n",
       "      <td>0.0</td>\n",
       "      <td>500.000000</td>\n",
       "      <td>100.000000</td>\n",
       "    </tr>\n",
       "    <tr>\n",
       "      <th>25%</th>\n",
       "      <td>3.314100e+04</td>\n",
       "      <td>59.000000</td>\n",
       "      <td>3.700000e+01</td>\n",
       "      <td>0.0</td>\n",
       "      <td>0.0</td>\n",
       "      <td>500.000000</td>\n",
       "      <td>500.000000</td>\n",
       "    </tr>\n",
       "    <tr>\n",
       "      <th>50%</th>\n",
       "      <td>1.729600e+05</td>\n",
       "      <td>245.000000</td>\n",
       "      <td>5.200000e+01</td>\n",
       "      <td>0.0</td>\n",
       "      <td>0.0</td>\n",
       "      <td>1000.000000</td>\n",
       "      <td>600.000000</td>\n",
       "    </tr>\n",
       "    <tr>\n",
       "      <th>75%</th>\n",
       "      <td>5.094630e+05</td>\n",
       "      <td>735.000000</td>\n",
       "      <td>7.300000e+01</td>\n",
       "      <td>0.0</td>\n",
       "      <td>0.0</td>\n",
       "      <td>2400.000000</td>\n",
       "      <td>1000.000000</td>\n",
       "    </tr>\n",
       "    <tr>\n",
       "      <th>max</th>\n",
       "      <td>2.139124e+09</td>\n",
       "      <td>1299.000000</td>\n",
       "      <td>2.123448e+09</td>\n",
       "      <td>0.0</td>\n",
       "      <td>0.0</td>\n",
       "      <td>189600.000000</td>\n",
       "      <td>755950.000000</td>\n",
       "    </tr>\n",
       "  </tbody>\n",
       "</table>\n",
       "</div>"
      ],
      "text/plain": [
       "         InGameTime  LastCompletedLevel  avg_energy_amount  revenue_on_event  \\\n",
       "count  6.968400e+05       696840.000000       6.968400e+05          696840.0   \n",
       "mean   2.448543e+06          426.099963       1.485821e+05               0.0   \n",
       "std    1.210664e+08          434.405962       1.764010e+07               0.0   \n",
       "min   -2.128381e+09           -1.000000       0.000000e+00               0.0   \n",
       "25%    3.314100e+04           59.000000       3.700000e+01               0.0   \n",
       "50%    1.729600e+05          245.000000       5.200000e+01               0.0   \n",
       "75%    5.094630e+05          735.000000       7.300000e+01               0.0   \n",
       "max    2.139124e+09         1299.000000       2.123448e+09               0.0   \n",
       "\n",
       "       revenue_on_other_activities  gold_on_event  gold_on_other_activities  \n",
       "count                     696840.0   45412.000000             168193.000000  \n",
       "mean                           0.0    1992.865322                936.481899  \n",
       "std                            0.0    3895.541280               3522.989145  \n",
       "min                            0.0     500.000000                100.000000  \n",
       "25%                            0.0     500.000000                500.000000  \n",
       "50%                            0.0    1000.000000                600.000000  \n",
       "75%                            0.0    2400.000000               1000.000000  \n",
       "max                            0.0  189600.000000             755950.000000  "
      ]
     },
     "execution_count": 4,
     "metadata": {},
     "output_type": "execute_result"
    }
   ],
   "source": [
    "df.describe()"
   ]
  },
  {
   "cell_type": "markdown",
   "id": "07cfc1db",
   "metadata": {},
   "source": [
    "### 1. Проверка на количество уникальных пользователей в каждой из групп "
   ]
  },
  {
   "cell_type": "code",
   "execution_count": 5,
   "id": "6ed7e8ec",
   "metadata": {},
   "outputs": [
    {
     "data": {
      "text/html": [
       "<div>\n",
       "<style scoped>\n",
       "    .dataframe tbody tr th:only-of-type {\n",
       "        vertical-align: middle;\n",
       "    }\n",
       "\n",
       "    .dataframe tbody tr th {\n",
       "        vertical-align: top;\n",
       "    }\n",
       "\n",
       "    .dataframe thead th {\n",
       "        text-align: right;\n",
       "    }\n",
       "</style>\n",
       "<table border=\"1\" class=\"dataframe\">\n",
       "  <thead>\n",
       "    <tr style=\"text-align: right;\">\n",
       "      <th></th>\n",
       "      <th>count</th>\n",
       "      <th>nunique</th>\n",
       "    </tr>\n",
       "    <tr>\n",
       "      <th>AbGroup</th>\n",
       "      <th></th>\n",
       "      <th></th>\n",
       "    </tr>\n",
       "  </thead>\n",
       "  <tbody>\n",
       "    <tr>\n",
       "      <th>Control</th>\n",
       "      <td>558070</td>\n",
       "      <td>89034</td>\n",
       "    </tr>\n",
       "    <tr>\n",
       "      <th>Test</th>\n",
       "      <td>138770</td>\n",
       "      <td>22278</td>\n",
       "    </tr>\n",
       "  </tbody>\n",
       "</table>\n",
       "</div>"
      ],
      "text/plain": [
       "          count  nunique\n",
       "AbGroup                 \n",
       "Control  558070    89034\n",
       "Test     138770    22278"
      ]
     },
     "execution_count": 5,
     "metadata": {},
     "output_type": "execute_result"
    }
   ],
   "source": [
    "df.groupby('AbGroup').user_id.agg(['count', 'nunique'])"
   ]
  },
  {
   "cell_type": "code",
   "execution_count": 6,
   "id": "744475df",
   "metadata": {},
   "outputs": [
    {
     "data": {
      "text/plain": [
       "(3.9964987880420146, 4.021546443755855)"
      ]
     },
     "execution_count": 6,
     "metadata": {},
     "output_type": "execute_result"
    }
   ],
   "source": [
    "t = df.groupby('AbGroup').user_id.agg(['count', 'nunique'])\n",
    "t['nunique'][0]/t['nunique'][1], t['count'][0]/t['count'][1]"
   ]
  },
  {
   "cell_type": "markdown",
   "id": "bf4a3e8b",
   "metadata": {},
   "source": [
    "Видим, что соотношение уникальных пользователей в группах равно 4/1."
   ]
  },
  {
   "cell_type": "markdown",
   "id": "c0ed4b80",
   "metadata": {},
   "source": [
    "### 2. Определим активность участия в ивэнте(количество пользователей в день) в зависимоти от времени"
   ]
  },
  {
   "cell_type": "markdown",
   "id": "ff14cbd2",
   "metadata": {},
   "source": [
    "* Переведем указанное время('time_stamp', 'install_date') в размерность времени."
   ]
  },
  {
   "cell_type": "code",
   "execution_count": 7,
   "id": "2ae90a4d",
   "metadata": {},
   "outputs": [],
   "source": [
    "df['time_stamp'] = pd.to_datetime(df['time_stamp'],format='%Y-%m-%d')"
   ]
  },
  {
   "cell_type": "code",
   "execution_count": 8,
   "id": "dc8c2846",
   "metadata": {},
   "outputs": [],
   "source": [
    "df['install_date'] = pd.to_datetime(df['install_date'],format='%Y-%m-%d')"
   ]
  },
  {
   "cell_type": "code",
   "execution_count": 9,
   "id": "106c0fa0",
   "metadata": {},
   "outputs": [
    {
     "data": {
      "text/plain": [
       "AbGroup                                object\n",
       "user_id                                object\n",
       "time_stamp                     datetime64[ns]\n",
       "install_date                   datetime64[ns]\n",
       "event_name                             object\n",
       "platform                               object\n",
       "network_name                           object\n",
       "country_name                           object\n",
       "InGameTime                              int64\n",
       "LastCompletedLevel                      int64\n",
       "avg_energy_amount                     float64\n",
       "revenue_on_event                      float64\n",
       "revenue_on_other_activities           float64\n",
       "gold_on_event                         float64\n",
       "gold_on_other_activities              float64\n",
       "dtype: object"
      ]
     },
     "execution_count": 9,
     "metadata": {},
     "output_type": "execute_result"
    }
   ],
   "source": [
    "df.dtypes"
   ]
  },
  {
   "cell_type": "markdown",
   "id": "34144107",
   "metadata": {},
   "source": [
    "* Построим график распределения активности пользователей по дням"
   ]
  },
  {
   "cell_type": "code",
   "execution_count": 10,
   "id": "57a3ae81",
   "metadata": {},
   "outputs": [
    {
     "data": {
      "text/plain": [
       "Text(0, 0.5, 'Число пользователей')"
      ]
     },
     "execution_count": 10,
     "metadata": {},
     "output_type": "execute_result"
    },
    {
     "data": {
      "image/png": "[encoded data removed]",
      "text/plain": [
       "<Figure size 640x480 with 1 Axes>"
      ]
     },
     "metadata": {},
     "output_type": "display_data"
    }
   ],
   "source": [
    "a = df.groupby('time_stamp').user_id.count().plot()\n",
    "a.set_xlabel('Дата')\n",
    "a.set_ylabel('Число пользователей')"
   ]
  },
  {
   "cell_type": "markdown",
   "id": "4e134afd",
   "metadata": {},
   "source": [
    "Эксперимент длился месяц. В первые четыре был простой по посещаемости."
   ]
  },
  {
   "cell_type": "markdown",
   "id": "eedfc291",
   "metadata": {},
   "source": [
    "### 3. Оценим ревеню по событию и иным активонстям пользователей"
   ]
  },
  {
   "cell_type": "code",
   "execution_count": 11,
   "id": "7a9d6f91",
   "metadata": {},
   "outputs": [
    {
     "data": {
      "text/plain": [
       "count    696840.0\n",
       "mean          0.0\n",
       "std           0.0\n",
       "min           0.0\n",
       "25%           0.0\n",
       "50%           0.0\n",
       "75%           0.0\n",
       "max           0.0\n",
       "Name: revenue_on_event, dtype: float64"
      ]
     },
     "execution_count": 11,
     "metadata": {},
     "output_type": "execute_result"
    }
   ],
   "source": [
    "df['revenue_on_event'].describe()"
   ]
  },
  {
   "cell_type": "code",
   "execution_count": 12,
   "id": "ef316828",
   "metadata": {},
   "outputs": [
    {
     "data": {
      "text/plain": [
       "count    696840.0\n",
       "mean          0.0\n",
       "std           0.0\n",
       "min           0.0\n",
       "25%           0.0\n",
       "50%           0.0\n",
       "75%           0.0\n",
       "max           0.0\n",
       "Name: revenue_on_other_activities, dtype: float64"
      ]
     },
     "execution_count": 12,
     "metadata": {},
     "output_type": "execute_result"
    }
   ],
   "source": [
    "df['revenue_on_other_activities'].describe()"
   ]
  },
  {
   "cell_type": "markdown",
   "id": "277630ed",
   "metadata": {},
   "source": [
    "Данные по ревеню отсутствуют в таблице, оба столбца принимают только нулевые значения."
   ]
  },
  {
   "cell_type": "markdown",
   "id": "c6f168c0",
   "metadata": {},
   "source": [
    "### 4.Оценим золото(игровую валюту) по событию и иным активонстям пользователей"
   ]
  },
  {
   "cell_type": "markdown",
   "id": "1f1911fa",
   "metadata": {},
   "source": [
    "* Золото потраченное на иные активности."
   ]
  },
  {
   "cell_type": "code",
   "execution_count": 13,
   "id": "ac3898d3",
   "metadata": {},
   "outputs": [
    {
     "data": {
      "text/plain": [
       "Text(0, 0.5, 'Количество игроков потративших золото')"
      ]
     },
     "execution_count": 13,
     "metadata": {},
     "output_type": "execute_result"
    },
    {
     "data": {
      "image/png": "[encoded data removed]",
      "text/plain": [
       "<Figure size 640x480 with 1 Axes>"
      ]
     },
     "metadata": {},
     "output_type": "display_data"
    }
   ],
   "source": [
    "b = df['gold_on_other_activities'].hist()\n",
    "b.set_xlabel('Потраченное золото на иные активности')\n",
    "b.set_ylabel('Количество игроков потративших золото')"
   ]
  },
  {
   "cell_type": "markdown",
   "id": "ba54f5fd",
   "metadata": {},
   "source": [
    "* Золото потраченное на ивенте."
   ]
  },
  {
   "cell_type": "code",
   "execution_count": 14,
   "id": "58ccc937",
   "metadata": {
    "scrolled": false
   },
   "outputs": [
    {
     "data": {
      "text/plain": [
       "Text(0, 0.5, 'Количество игроков потративших золото')"
      ]
     },
     "execution_count": 14,
     "metadata": {},
     "output_type": "execute_result"
    },
    {
     "data": {
      "image/png": "[encoded data removed]",
      "text/plain": [
       "<Figure size 640x480 with 1 Axes>"
      ]
     },
     "metadata": {},
     "output_type": "display_data"
    }
   ],
   "source": [
    "d = df['gold_on_event'].hist()\n",
    "d.set_xlabel('Потраченное золото на ивенте')\n",
    "d.set_ylabel('Количество игроков потративших золото')"
   ]
  },
  {
   "cell_type": "markdown",
   "id": "6cbd1e7e",
   "metadata": {},
   "source": [
    "Из гистограмм 'золото, потраченное на ивентный прогресс', 'золото, потраченное на другие продукты' видно что траты имеют длиннохвостовое распределение, с малым количеством пользователей, которые тратят много больше остальных."
   ]
  },
  {
   "cell_type": "code",
   "execution_count": 15,
   "id": "38ef9b5b",
   "metadata": {
    "scrolled": true
   },
   "outputs": [
    {
     "data": {
      "text/plain": [
       "15"
      ]
     },
     "execution_count": 15,
     "metadata": {},
     "output_type": "execute_result"
    }
   ],
   "source": [
    "len(df[df['gold_on_other_activities']>100000]) #количеством пользователей, \n",
    "# которые потралити больше 100000 единиц золота на иные активночти"
   ]
  },
  {
   "cell_type": "code",
   "execution_count": 16,
   "id": "c5e4fc70",
   "metadata": {},
   "outputs": [
    {
     "data": {
      "text/plain": [
       "30"
      ]
     },
     "execution_count": 16,
     "metadata": {},
     "output_type": "execute_result"
    }
   ],
   "source": [
    "len(df[df['gold_on_event']>50000]) #количеством пользователей, \n",
    "# которые потралити больше 50000 единиц золота на ивентовы процесс"
   ]
  },
  {
   "cell_type": "code",
   "execution_count": 17,
   "id": "c127de5a",
   "metadata": {},
   "outputs": [
    {
     "name": "stdout",
     "output_type": "stream",
     "text": [
      "Процент пользователей, потративших больше 100000 ед.золота на иные активности: 0.002%\n",
      "Процент пользователей, потративших больше 50000 ед.золота на ивенте: 0.004%\n"
     ]
    }
   ],
   "source": [
    "gooa = len(df[df['gold_on_other_activities']>100000])/len(df)*100\n",
    "goe = len(df[df['gold_on_event']>50000])/len(df)*100\n",
    "print(f'Процент пользователей, потративших больше 100000 ед.золота на иные активности: {gooa:.3f}%',\\\n",
    "      f'Процент пользователей, потративших больше 50000 ед.золота на ивенте: {goe:.3f}%', sep='\\n')"
   ]
  },
  {
   "cell_type": "markdown",
   "id": "055b761b",
   "metadata": {},
   "source": [
    " Видно что выпадающие значения составляют малую часть выборок.\n",
    "\n",
    " Для 'gold_on_other_activities' основное колличество трат не превышает 100 тыс. единиц золота, выбросы же доходят до 700 тыс..\n",
    "\n",
    " Для 'gold_on_event' основное колличество трат не превышает 50 тыс. единиц золота, выбросы же доходят до 175 тыс..\n",
    " \n",
    "Выбросы могут сильно повлить на результаты оценивания, поэтому при дальнейшем анализе, будем учитывать их наличие.\n",
    "\n",
    "### 5. Определим пользователей которые тратили игровую валюту на протяжении ивента"
   ]
  },
  {
   "cell_type": "markdown",
   "id": "04b0ad54",
   "metadata": {},
   "source": [
    "* Оценим показатели в тестовой и контрольной группе по тратам золота."
   ]
  },
  {
   "cell_type": "code",
   "execution_count": 18,
   "id": "06b592fd",
   "metadata": {},
   "outputs": [],
   "source": [
    "df['gold_on_event_flag'] = (df['gold_on_event'] > 0)*1\n",
    "df['gold_on_other_activities_flag'] = (df['gold_on_other_activities'] > 0)*1"
   ]
  },
  {
   "cell_type": "code",
   "execution_count": 19,
   "id": "cc1fe67f",
   "metadata": {},
   "outputs": [
    {
     "data": {
      "text/html": [
       "<div>\n",
       "<style scoped>\n",
       "    .dataframe tbody tr th:only-of-type {\n",
       "        vertical-align: middle;\n",
       "    }\n",
       "\n",
       "    .dataframe tbody tr th {\n",
       "        vertical-align: top;\n",
       "    }\n",
       "\n",
       "    .dataframe thead tr th {\n",
       "        text-align: left;\n",
       "    }\n",
       "</style>\n",
       "<table border=\"1\" class=\"dataframe\">\n",
       "  <thead>\n",
       "    <tr>\n",
       "      <th></th>\n",
       "      <th>AbGroup</th>\n",
       "      <th colspan=\"2\" halign=\"left\">gold_on_event_flag</th>\n",
       "      <th colspan=\"2\" halign=\"left\">gold_on_other_activities_flag</th>\n",
       "      <th colspan=\"2\" halign=\"left\">gold_on_event</th>\n",
       "      <th colspan=\"2\" halign=\"left\">gold_on_other_activities</th>\n",
       "    </tr>\n",
       "    <tr>\n",
       "      <th></th>\n",
       "      <th></th>\n",
       "      <th>count</th>\n",
       "      <th>mean</th>\n",
       "      <th>count</th>\n",
       "      <th>mean</th>\n",
       "      <th>count</th>\n",
       "      <th>mean</th>\n",
       "      <th>count</th>\n",
       "      <th>mean</th>\n",
       "    </tr>\n",
       "  </thead>\n",
       "  <tbody>\n",
       "    <tr>\n",
       "      <th>0</th>\n",
       "      <td>Control</td>\n",
       "      <td>558070</td>\n",
       "      <td>0.06523</td>\n",
       "      <td>558070</td>\n",
       "      <td>0.241385</td>\n",
       "      <td>36403</td>\n",
       "      <td>1965.211658</td>\n",
       "      <td>134710</td>\n",
       "      <td>911.892213</td>\n",
       "    </tr>\n",
       "    <tr>\n",
       "      <th>1</th>\n",
       "      <td>Test</td>\n",
       "      <td>138770</td>\n",
       "      <td>0.06492</td>\n",
       "      <td>138770</td>\n",
       "      <td>0.241284</td>\n",
       "      <td>9009</td>\n",
       "      <td>2104.606505</td>\n",
       "      <td>33483</td>\n",
       "      <td>1035.412000</td>\n",
       "    </tr>\n",
       "  </tbody>\n",
       "</table>\n",
       "</div>"
      ],
      "text/plain": [
       "   AbGroup gold_on_event_flag          gold_on_other_activities_flag  \\\n",
       "                        count     mean                         count   \n",
       "0  Control             558070  0.06523                        558070   \n",
       "1     Test             138770  0.06492                        138770   \n",
       "\n",
       "            gold_on_event              gold_on_other_activities               \n",
       "       mean         count         mean                    count         mean  \n",
       "0  0.241385         36403  1965.211658                   134710   911.892213  \n",
       "1  0.241284          9009  2104.606505                    33483  1035.412000  "
      ]
     },
     "execution_count": 19,
     "metadata": {},
     "output_type": "execute_result"
    }
   ],
   "source": [
    "t = df.groupby('AbGroup').\\\n",
    "            agg({'gold_on_event_flag': ['count', 'mean'],\\\n",
    "                 'gold_on_other_activities_flag': ['count', 'mean'],\\\n",
    "                 'gold_on_event': ['count', 'mean'],\\\n",
    "                 'gold_on_other_activities': ['count', 'mean']}).reset_index()\n",
    "t"
   ]
  },
  {
   "cell_type": "markdown",
   "id": "7e83897a",
   "metadata": {},
   "source": [
    "* gold_on_event_flag - те кто тратил золото на ивенте\n",
    "* gold_on_other_activities_flag - те кто тратил золото на иные активности"
   ]
  },
  {
   "cell_type": "code",
   "execution_count": 20,
   "id": "95b1bfd1",
   "metadata": {},
   "outputs": [
    {
     "data": {
      "text/html": [
       "<div>\n",
       "<style scoped>\n",
       "    .dataframe tbody tr th:only-of-type {\n",
       "        vertical-align: middle;\n",
       "    }\n",
       "\n",
       "    .dataframe tbody tr th {\n",
       "        vertical-align: top;\n",
       "    }\n",
       "\n",
       "    .dataframe thead tr th {\n",
       "        text-align: left;\n",
       "    }\n",
       "\n",
       "    .dataframe thead tr:last-of-type th {\n",
       "        text-align: right;\n",
       "    }\n",
       "</style>\n",
       "<table border=\"1\" class=\"dataframe\">\n",
       "  <thead>\n",
       "    <tr>\n",
       "      <th></th>\n",
       "      <th colspan=\"2\" halign=\"left\">gold_on_event_flag</th>\n",
       "      <th colspan=\"2\" halign=\"left\">gold_on_event</th>\n",
       "    </tr>\n",
       "    <tr>\n",
       "      <th></th>\n",
       "      <th>count</th>\n",
       "      <th>mean</th>\n",
       "      <th>mean</th>\n",
       "      <th>median</th>\n",
       "    </tr>\n",
       "    <tr>\n",
       "      <th>AbGroup</th>\n",
       "      <th></th>\n",
       "      <th></th>\n",
       "      <th></th>\n",
       "      <th></th>\n",
       "    </tr>\n",
       "  </thead>\n",
       "  <tbody>\n",
       "    <tr>\n",
       "      <th>Control</th>\n",
       "      <td>558070</td>\n",
       "      <td>0.06523</td>\n",
       "      <td>1965.211658</td>\n",
       "      <td>1000.0</td>\n",
       "    </tr>\n",
       "    <tr>\n",
       "      <th>Test</th>\n",
       "      <td>138770</td>\n",
       "      <td>0.06492</td>\n",
       "      <td>2104.606505</td>\n",
       "      <td>1500.0</td>\n",
       "    </tr>\n",
       "  </tbody>\n",
       "</table>\n",
       "</div>"
      ],
      "text/plain": [
       "        gold_on_event_flag          gold_on_event        \n",
       "                     count     mean          mean  median\n",
       "AbGroup                                                  \n",
       "Control             558070  0.06523   1965.211658  1000.0\n",
       "Test                138770  0.06492   2104.606505  1500.0"
      ]
     },
     "execution_count": 20,
     "metadata": {},
     "output_type": "execute_result"
    }
   ],
   "source": [
    "df.groupby('AbGroup').\\\n",
    "            agg({'gold_on_event_flag': ['count', 'mean'],\\\n",
    "                 'gold_on_event': ['mean', 'median']})"
   ]
  },
  {
   "cell_type": "markdown",
   "id": "f1145382",
   "metadata": {},
   "source": [
    "Видно что в тестовой и контрольной группе потраченные деньги по среднему и медиане различаются.\n",
    "\n",
    "* Рассчитаем на каждого пользователя в среднем и по медиане сколько он тратил на ивенте."
   ]
  },
  {
   "cell_type": "code",
   "execution_count": 21,
   "id": "cea51da6",
   "metadata": {},
   "outputs": [],
   "source": [
    "metrix = df.groupby(['user_id', 'AbGroup']).agg({'gold_on_event': ['median', 'mean'],\\\n",
    "                                        'gold_on_event_flag': ['count', 'mean']}).reset_index()"
   ]
  },
  {
   "cell_type": "code",
   "execution_count": 22,
   "id": "00dbb0b0",
   "metadata": {},
   "outputs": [],
   "source": [
    "metrix.columns = ['_'.join(el) for el in metrix.columns]"
   ]
  },
  {
   "cell_type": "code",
   "execution_count": 23,
   "id": "7cb35611",
   "metadata": {},
   "outputs": [
    {
     "data": {
      "text/html": [
       "<div>\n",
       "<style scoped>\n",
       "    .dataframe tbody tr th:only-of-type {\n",
       "        vertical-align: middle;\n",
       "    }\n",
       "\n",
       "    .dataframe tbody tr th {\n",
       "        vertical-align: top;\n",
       "    }\n",
       "\n",
       "    .dataframe thead th {\n",
       "        text-align: right;\n",
       "    }\n",
       "</style>\n",
       "<table border=\"1\" class=\"dataframe\">\n",
       "  <thead>\n",
       "    <tr style=\"text-align: right;\">\n",
       "      <th></th>\n",
       "      <th>user_id_</th>\n",
       "      <th>AbGroup_</th>\n",
       "      <th>gold_on_event_median</th>\n",
       "      <th>gold_on_event_mean</th>\n",
       "      <th>gold_on_event_flag_count</th>\n",
       "      <th>gold_on_event_flag_mean</th>\n",
       "    </tr>\n",
       "  </thead>\n",
       "  <tbody>\n",
       "    <tr>\n",
       "      <th>0</th>\n",
       "      <td>00000d6d79ec151d74c5b0c0705d9d9fe252fe83</td>\n",
       "      <td>Control</td>\n",
       "      <td>NaN</td>\n",
       "      <td>NaN</td>\n",
       "      <td>2</td>\n",
       "      <td>0.000000</td>\n",
       "    </tr>\n",
       "    <tr>\n",
       "      <th>1</th>\n",
       "      <td>000133682d2dcd90c1a9c8ca5e34a294f31af64f</td>\n",
       "      <td>Control</td>\n",
       "      <td>1250.0</td>\n",
       "      <td>1250.0</td>\n",
       "      <td>19</td>\n",
       "      <td>0.105263</td>\n",
       "    </tr>\n",
       "    <tr>\n",
       "      <th>2</th>\n",
       "      <td>0001f13b0535b174bc7e36a1846c31c7a091c4b0</td>\n",
       "      <td>Control</td>\n",
       "      <td>NaN</td>\n",
       "      <td>NaN</td>\n",
       "      <td>11</td>\n",
       "      <td>0.000000</td>\n",
       "    </tr>\n",
       "    <tr>\n",
       "      <th>3</th>\n",
       "      <td>00021d57aced59fbfaf63ba620afada82fc06ca8</td>\n",
       "      <td>Test</td>\n",
       "      <td>NaN</td>\n",
       "      <td>NaN</td>\n",
       "      <td>13</td>\n",
       "      <td>0.000000</td>\n",
       "    </tr>\n",
       "    <tr>\n",
       "      <th>4</th>\n",
       "      <td>00027b7d34e10c17bfd4f76aa626403a2c5d1044</td>\n",
       "      <td>Test</td>\n",
       "      <td>NaN</td>\n",
       "      <td>NaN</td>\n",
       "      <td>7</td>\n",
       "      <td>0.000000</td>\n",
       "    </tr>\n",
       "  </tbody>\n",
       "</table>\n",
       "</div>"
      ],
      "text/plain": [
       "                                   user_id_ AbGroup_  gold_on_event_median  \\\n",
       "0  00000d6d79ec151d74c5b0c0705d9d9fe252fe83  Control                   NaN   \n",
       "1  000133682d2dcd90c1a9c8ca5e34a294f31af64f  Control                1250.0   \n",
       "2  0001f13b0535b174bc7e36a1846c31c7a091c4b0  Control                   NaN   \n",
       "3  00021d57aced59fbfaf63ba620afada82fc06ca8     Test                   NaN   \n",
       "4  00027b7d34e10c17bfd4f76aa626403a2c5d1044     Test                   NaN   \n",
       "\n",
       "   gold_on_event_mean  gold_on_event_flag_count  gold_on_event_flag_mean  \n",
       "0                 NaN                         2                 0.000000  \n",
       "1              1250.0                        19                 0.105263  \n",
       "2                 NaN                        11                 0.000000  \n",
       "3                 NaN                        13                 0.000000  \n",
       "4                 NaN                         7                 0.000000  "
      ]
     },
     "execution_count": 23,
     "metadata": {},
     "output_type": "execute_result"
    }
   ],
   "source": [
    "metrix.head()"
   ]
  },
  {
   "cell_type": "code",
   "execution_count": 24,
   "id": "5b673aab",
   "metadata": {},
   "outputs": [
    {
     "data": {
      "text/html": [
       "<div>\n",
       "<style scoped>\n",
       "    .dataframe tbody tr th:only-of-type {\n",
       "        vertical-align: middle;\n",
       "    }\n",
       "\n",
       "    .dataframe tbody tr th {\n",
       "        vertical-align: top;\n",
       "    }\n",
       "\n",
       "    .dataframe thead th {\n",
       "        text-align: right;\n",
       "    }\n",
       "</style>\n",
       "<table border=\"1\" class=\"dataframe\">\n",
       "  <thead>\n",
       "    <tr style=\"text-align: right;\">\n",
       "      <th></th>\n",
       "      <th>gold_on_event_median</th>\n",
       "      <th>gold_on_event_mean</th>\n",
       "      <th>gold_on_event_flag_count</th>\n",
       "      <th>gold_on_event_flag_mean</th>\n",
       "    </tr>\n",
       "    <tr>\n",
       "      <th>AbGroup_</th>\n",
       "      <th></th>\n",
       "      <th></th>\n",
       "      <th></th>\n",
       "      <th></th>\n",
       "    </tr>\n",
       "  </thead>\n",
       "  <tbody>\n",
       "    <tr>\n",
       "      <th>Control</th>\n",
       "      <td>2002.976135</td>\n",
       "      <td>2119.778819</td>\n",
       "      <td>6.268055</td>\n",
       "      <td>0.031600</td>\n",
       "    </tr>\n",
       "    <tr>\n",
       "      <th>Test</th>\n",
       "      <td>2296.811371</td>\n",
       "      <td>2417.938571</td>\n",
       "      <td>6.229015</td>\n",
       "      <td>0.030891</td>\n",
       "    </tr>\n",
       "  </tbody>\n",
       "</table>\n",
       "</div>"
      ],
      "text/plain": [
       "          gold_on_event_median  gold_on_event_mean  gold_on_event_flag_count  \\\n",
       "AbGroup_                                                                       \n",
       "Control            2002.976135         2119.778819                  6.268055   \n",
       "Test               2296.811371         2417.938571                  6.229015   \n",
       "\n",
       "          gold_on_event_flag_mean  \n",
       "AbGroup_                           \n",
       "Control                  0.031600  \n",
       "Test                     0.030891  "
      ]
     },
     "execution_count": 24,
     "metadata": {},
     "output_type": "execute_result"
    }
   ],
   "source": [
    "metrix.groupby('AbGroup_').mean()"
   ]
  },
  {
   "cell_type": "markdown",
   "id": "754a4130",
   "metadata": {},
   "source": [
    "По данной таблице, оценивая медиану и среднее, можно сказать, что траты игровой валюты в среднем на одного пользователя вырасли в тестовой группе."
   ]
  },
  {
   "cell_type": "markdown",
   "id": "e6253efa",
   "metadata": {},
   "source": [
    "# Определение различий между группами"
   ]
  },
  {
   "cell_type": "code",
   "execution_count": 25,
   "id": "719341ed",
   "metadata": {},
   "outputs": [],
   "source": [
    "group_sizes = df.AbGroup.value_counts().values"
   ]
  },
  {
   "cell_type": "code",
   "execution_count": 26,
   "id": "0da779b0",
   "metadata": {},
   "outputs": [
    {
     "data": {
      "text/plain": [
       "array([558070, 138770], dtype=int64)"
      ]
     },
     "execution_count": 26,
     "metadata": {},
     "output_type": "execute_result"
    }
   ],
   "source": [
    "group_sizes #Определили размер тестовой и контрольной групп"
   ]
  },
  {
   "cell_type": "markdown",
   "id": "8eb22806",
   "metadata": {},
   "source": [
    "### 1.Сформулируем гипотезы:\n",
    "* H0 - Между тестовой и контрольной группами, в поведени на ивенте нет различий(всё есть одна генеральная совокупность)\n",
    "* H1 - Между тестовой и контрольной группами, в поведении на ивенте есть различия\n",
    "\n",
    " При верности нулевой гипотезы, можем полагать, что поведение пользователей на ивенте(трата игровой валюты), не зависит от группы(является единой гениральной совокупностью). Для проверки данной гипотезы мы будем многократно извлекать отдельные выборки пользователей из обеих групп с повторениями, размерами с контрольную и тестовую. Далее будем высчитывать разницу между средними обеих выборок и строить гистограмму распределения данных значений. \n",
    " \n",
    " При верности нулевой гипотезы, среднее разностей между выборками должно быть близко к нулю(так как по гипотезе выборки из одной генеральной совокупности), при явном сдвиге среднего от нуля этих разностей, можно будет оценить на сколько значимые различия мы получили.\n",
    "\n",
    "\n",
    "#### Таким способом проведем анализ трат золота во время ивента"
   ]
  },
  {
   "cell_type": "code",
   "execution_count": 27,
   "id": "57b5471e",
   "metadata": {},
   "outputs": [
    {
     "data": {
      "application/vnd.jupyter.widget-view+json": {
       "model_id": "4c86d06c27554f2ebfdd3c3680d3e499",
       "version_major": 2,
       "version_minor": 0
      },
      "text/plain": [
       "  0%|          | 0/3000 [00:00<?, ?it/s]"
      ]
     },
     "metadata": {},
     "output_type": "display_data"
    },
    {
     "data": {
      "text/plain": [
       "<AxesSubplot:>"
      ]
     },
     "execution_count": 27,
     "metadata": {},
     "output_type": "execute_result"
    },
    {
     "data": {
      "image/png": "[encoded data removed]",
      "text/plain": [
       "<Figure size 640x480 with 1 Axes>"
      ]
     },
     "metadata": {},
     "output_type": "display_data"
    }
   ],
   "source": [
    "n = 3000\n",
    "result = list()\n",
    "cntrl = df[(df.gold_on_event <= 50000)&(df['AbGroup']=='Control')]\n",
    "ctr = cntrl.gold_on_event\n",
    "test = df[(df.gold_on_event <= 50000)&(df['AbGroup']=='Test')]\n",
    "tst = test.gold_on_event\n",
    "for _ in tqdm(range(n)):\n",
    "    c = ctr.sample(group_sizes[0], replace=True)\n",
    "    t = tst.sample(group_sizes[1], replace=True)\n",
    "    \n",
    "    result.append(t.mean()-c.mean())\n",
    "ans = pd.Series(result)\n",
    "ans.hist()"
   ]
  },
  {
   "cell_type": "code",
   "execution_count": 28,
   "id": "eeebc0ca",
   "metadata": {},
   "outputs": [
    {
     "name": "stdout",
     "output_type": "stream",
     "text": [
      "Разница трат золота во время ивента в тестовой и контрольной группах оказывалась в  0.00% меньше нуля.\n",
      "Разница трат золота во время ивента в тестовой и контрольной группах оказывалась в  0.03% меньше 40.\n"
     ]
    }
   ],
   "source": [
    "a = f'Разница трат золота во время ивента в тестовой и контрольной группах оказывалась в {(ans<0).mean()*100: 0.2f}% меньше нуля.'\n",
    "b = f'Разница трат золота во время ивента в тестовой и контрольной группах оказывалась в {(ans<40).mean()*100: 0.2f}% меньше 40.'\n",
    "print(a, b, sep = '\\n')"
   ]
  },
  {
   "cell_type": "code",
   "execution_count": 29,
   "id": "57970cfe",
   "metadata": {},
   "outputs": [
    {
     "name": "stdout",
     "output_type": "stream",
     "text": [
      "95.0 % доверительный интервал для среднего разности трат золота во время ивента:                                                [ 65.67 - 66.20 ]\n",
      "99.0 % доверительный интервал для среднего разности трат золота во время ивента:                                                [ 65.59 - 66.28 ]\n"
     ]
    }
   ],
   "source": [
    "conf1 = 0.95\n",
    "conf2 = 0.99\n",
    "conf_int1 = st.norm.interval(confidence=conf1,\n",
    "                 loc=np.mean(ans),\n",
    "                 scale=st.sem(ans))\n",
    "conf_int2 = st.norm.interval(confidence=conf2,\n",
    "                 loc=np.mean(ans),\n",
    "                 scale=st.sem(ans))\n",
    "a = f'{conf1*100} % доверительный интервал для среднего разности трат золота во время ивента:\\\n",
    "                                                [{conf_int1[0]: 0.2f} -{conf_int1[1]: 0.2f} ]'\n",
    "b = f'{conf2*100} % доверительный интервал для среднего разности трат золота во время ивента:\\\n",
    "                                                [{conf_int2[0]: 0.2f} -{conf_int2[1]: 0.2f} ]'\n",
    "print(a, b, sep = '\\n')"
   ]
  },
  {
   "cell_type": "markdown",
   "id": "bb0f607f",
   "metadata": {},
   "source": [
    "При многократном извлечении выборок трат золота во время ивента из тестовой и контрольной групп, высчитанная разность их средних, в 0.03% случаев оказывалась меньше 40. Разница равная 40 (и нулю темболее) не попадает ни в 95%, ни в 99% доверительный интервалы."
   ]
  },
  {
   "cell_type": "markdown",
   "id": "9fd263fb",
   "metadata": {},
   "source": [
    "#### Аналогичную процедуру проведем для анализа трат золота на иныте активности."
   ]
  },
  {
   "cell_type": "code",
   "execution_count": 30,
   "id": "7da158cc",
   "metadata": {},
   "outputs": [
    {
     "data": {
      "application/vnd.jupyter.widget-view+json": {
       "model_id": "f786b8e0a20e442fa007d2c4b5be15cd",
       "version_major": 2,
       "version_minor": 0
      },
      "text/plain": [
       "  0%|          | 0/3000 [00:00<?, ?it/s]"
      ]
     },
     "metadata": {},
     "output_type": "display_data"
    },
    {
     "data": {
      "text/plain": [
       "<AxesSubplot:>"
      ]
     },
     "execution_count": 30,
     "metadata": {},
     "output_type": "execute_result"
    },
    {
     "data": {
      "image/png": "[encoded data removed]",
      "text/plain": [
       "<Figure size 640x480 with 1 Axes>"
      ]
     },
     "metadata": {},
     "output_type": "display_data"
    }
   ],
   "source": [
    "n = 3000\n",
    "result2 = list()\n",
    "cntrl = df[(df.gold_on_other_activities <= 70000)&(df['AbGroup']=='Control')]\n",
    "ctr = cntrl.gold_on_other_activities\n",
    "test = df[(df.gold_on_other_activities <= 70000)&(df['AbGroup']=='Test')]\n",
    "tst = test.gold_on_other_activities\n",
    "for _ in tqdm(range(n)):\n",
    "    c = ctr.sample(group_sizes[0], replace=True)\n",
    "    t = tst.sample(group_sizes[1], replace=True)\n",
    "    \n",
    "    result2.append(t.mean()-c.mean())\n",
    "ans2 = pd.Series(result2)\n",
    "ans2.hist()"
   ]
  },
  {
   "cell_type": "code",
   "execution_count": 31,
   "id": "246dcc6e",
   "metadata": {},
   "outputs": [
    {
     "name": "stdout",
     "output_type": "stream",
     "text": [
      "Разница трат золота в тестовой и контрольной группах на иные активности оказывалась в  0.00% меньше нуля.\n",
      "Разница трат золота в тестовой и контрольной группах на иные активности оказывалась в  0.00% меньше 15.\n"
     ]
    }
   ],
   "source": [
    "a = f'Разница трат золота в тестовой и контрольной группах на иные активности \\\n",
    "оказывалась в {(ans2<0).mean()*100: 0.2f}% меньше нуля.'\n",
    "b = f'Разница трат золота в тестовой и контрольной группах на иные активности \\\n",
    "оказывалась в {(ans2<15).mean()*100: 0.2f}% меньше 15.'\n",
    "print(a, b, sep = '\\n')"
   ]
  },
  {
   "cell_type": "code",
   "execution_count": 32,
   "id": "f8dd44a5",
   "metadata": {},
   "outputs": [
    {
     "name": "stdout",
     "output_type": "stream",
     "text": [
      "95.0 % доверительный интервал для среднего разности трат золота на иные активности:                                                [ 29.78 - 30.10 ]\n",
      "99.0 % доверительный интервал для среднего разности трат золота на иные активности:                                                [ 29.73 - 30.15 ]\n"
     ]
    }
   ],
   "source": [
    "conf1 = 0.95\n",
    "conf2 = 0.99\n",
    "conf_int1 = st.norm.interval(confidence=conf1,\n",
    "                 loc=np.mean(ans2),\n",
    "                 scale=st.sem(ans2))\n",
    "conf_int2 = st.norm.interval(confidence=conf2,\n",
    "                 loc=np.mean(ans2),\n",
    "                 scale=st.sem(ans2))\n",
    "a = f'{conf1*100} % доверительный интервал для среднего разности трат золота на иные активности:\\\n",
    "                                                [{conf_int1[0]: 0.2f} -{conf_int1[1]: 0.2f} ]'\n",
    "b = f'{conf2*100} % доверительный интервал для среднего разности трат золота на иные активности:\\\n",
    "                                                [{conf_int2[0]: 0.2f} -{conf_int2[1]: 0.2f} ]'\n",
    "print(a, b, sep = '\\n')"
   ]
  },
  {
   "cell_type": "markdown",
   "id": "14a961e0",
   "metadata": {},
   "source": [
    "При многократном извлечении выборок трат золота на иные активности из тестовой и контрольной групп, высчитанная разность их средних, в 0 % случаев оказывалась меньше 15 (и нуля соответственно). Разница равная 15 (и нулю темболее) не попадает ни в 95%, ни в 99% доверительный интервалы.\n"
   ]
  },
  {
   "cell_type": "markdown",
   "id": "11524cbf",
   "metadata": {},
   "source": [
    "### Изучим какой вклад в изменчивость поведения пользователей вносят различные факторы"
   ]
  },
  {
   "cell_type": "markdown",
   "id": "d41ed4cc",
   "metadata": {},
   "source": [
    "#### Фактор - network_name"
   ]
  },
  {
   "cell_type": "code",
   "execution_count": 33,
   "id": "0bd7e50e",
   "metadata": {},
   "outputs": [
    {
     "data": {
      "text/html": [
       "<div>\n",
       "<style scoped>\n",
       "    .dataframe tbody tr th:only-of-type {\n",
       "        vertical-align: middle;\n",
       "    }\n",
       "\n",
       "    .dataframe tbody tr th {\n",
       "        vertical-align: top;\n",
       "    }\n",
       "\n",
       "    .dataframe thead tr th {\n",
       "        text-align: left;\n",
       "    }\n",
       "\n",
       "    .dataframe thead tr:last-of-type th {\n",
       "        text-align: right;\n",
       "    }\n",
       "</style>\n",
       "<table border=\"1\" class=\"dataframe\">\n",
       "  <thead>\n",
       "    <tr>\n",
       "      <th></th>\n",
       "      <th></th>\n",
       "      <th colspan=\"2\" halign=\"left\">gold_on_event</th>\n",
       "      <th colspan=\"2\" halign=\"left\">gold_on_other_activities</th>\n",
       "    </tr>\n",
       "    <tr>\n",
       "      <th></th>\n",
       "      <th></th>\n",
       "      <th>mean</th>\n",
       "      <th>count</th>\n",
       "      <th>mean</th>\n",
       "      <th>count</th>\n",
       "    </tr>\n",
       "    <tr>\n",
       "      <th>AbGroup</th>\n",
       "      <th>network_name</th>\n",
       "      <th></th>\n",
       "      <th></th>\n",
       "      <th></th>\n",
       "      <th></th>\n",
       "    </tr>\n",
       "  </thead>\n",
       "  <tbody>\n",
       "    <tr>\n",
       "      <th rowspan=\"2\" valign=\"top\">Control</th>\n",
       "      <th>Organic</th>\n",
       "      <td>1947.891073</td>\n",
       "      <td>14652</td>\n",
       "      <td>919.771439</td>\n",
       "      <td>47121</td>\n",
       "    </tr>\n",
       "    <tr>\n",
       "      <th>Paid</th>\n",
       "      <td>1976.879224</td>\n",
       "      <td>21751</td>\n",
       "      <td>907.653358</td>\n",
       "      <td>87589</td>\n",
       "    </tr>\n",
       "    <tr>\n",
       "      <th rowspan=\"2\" valign=\"top\">Test</th>\n",
       "      <th>Organic</th>\n",
       "      <td>2155.763150</td>\n",
       "      <td>3479</td>\n",
       "      <td>1131.343090</td>\n",
       "      <td>11548</td>\n",
       "    </tr>\n",
       "    <tr>\n",
       "      <th>Paid</th>\n",
       "      <td>2072.423146</td>\n",
       "      <td>5530</td>\n",
       "      <td>984.907682</td>\n",
       "      <td>21935</td>\n",
       "    </tr>\n",
       "  </tbody>\n",
       "</table>\n",
       "</div>"
      ],
      "text/plain": [
       "                     gold_on_event        gold_on_other_activities       \n",
       "                              mean  count                     mean  count\n",
       "AbGroup network_name                                                     \n",
       "Control Organic        1947.891073  14652               919.771439  47121\n",
       "        Paid           1976.879224  21751               907.653358  87589\n",
       "Test    Organic        2155.763150   3479              1131.343090  11548\n",
       "        Paid           2072.423146   5530               984.907682  21935"
      ]
     },
     "execution_count": 33,
     "metadata": {},
     "output_type": "execute_result"
    }
   ],
   "source": [
    "df.groupby(['AbGroup', 'network_name']).agg({'gold_on_event': ['mean', 'count'],\\\n",
    "                                            'gold_on_other_activities': ['mean', 'count']})"
   ]
  },
  {
   "cell_type": "markdown",
   "id": "9eb16c1a",
   "metadata": {},
   "source": [
    "#### Для оценки влияния фактора, проведем двухфакторный дисперсионный анализ.\n",
    "\n",
    "* Изучим влияния факторов 'AbGroup' и 'netwotk_name' на показатель 'gold_on_event'"
   ]
  },
  {
   "cell_type": "code",
   "execution_count": 34,
   "id": "9b35b67e",
   "metadata": {},
   "outputs": [
    {
     "data": {
      "text/html": [
       "<div>\n",
       "<style scoped>\n",
       "    .dataframe tbody tr th:only-of-type {\n",
       "        vertical-align: middle;\n",
       "    }\n",
       "\n",
       "    .dataframe tbody tr th {\n",
       "        vertical-align: top;\n",
       "    }\n",
       "\n",
       "    .dataframe thead th {\n",
       "        text-align: right;\n",
       "    }\n",
       "</style>\n",
       "<table border=\"1\" class=\"dataframe\">\n",
       "  <thead>\n",
       "    <tr style=\"text-align: right;\">\n",
       "      <th></th>\n",
       "      <th>AbGroup</th>\n",
       "      <th>network_name</th>\n",
       "      <th>gold_on_event</th>\n",
       "    </tr>\n",
       "  </thead>\n",
       "  <tbody>\n",
       "    <tr>\n",
       "      <th>4</th>\n",
       "      <td>Control</td>\n",
       "      <td>Paid</td>\n",
       "      <td>500.0</td>\n",
       "    </tr>\n",
       "    <tr>\n",
       "      <th>26</th>\n",
       "      <td>Control</td>\n",
       "      <td>Organic</td>\n",
       "      <td>500.0</td>\n",
       "    </tr>\n",
       "    <tr>\n",
       "      <th>31</th>\n",
       "      <td>Control</td>\n",
       "      <td>Organic</td>\n",
       "      <td>1000.0</td>\n",
       "    </tr>\n",
       "    <tr>\n",
       "      <th>35</th>\n",
       "      <td>Control</td>\n",
       "      <td>Paid</td>\n",
       "      <td>1000.0</td>\n",
       "    </tr>\n",
       "    <tr>\n",
       "      <th>53</th>\n",
       "      <td>Control</td>\n",
       "      <td>Paid</td>\n",
       "      <td>500.0</td>\n",
       "    </tr>\n",
       "  </tbody>\n",
       "</table>\n",
       "</div>"
      ],
      "text/plain": [
       "    AbGroup network_name  gold_on_event\n",
       "4   Control         Paid          500.0\n",
       "26  Control      Organic          500.0\n",
       "31  Control      Organic         1000.0\n",
       "35  Control         Paid         1000.0\n",
       "53  Control         Paid          500.0"
      ]
     },
     "execution_count": 34,
     "metadata": {},
     "output_type": "execute_result"
    }
   ],
   "source": [
    "anova_goe = df[['AbGroup', 'network_name', 'gold_on_event']]\n",
    "anova_goe = anova_goe[anova_goe.gold_on_event.isna()==False]\n",
    "anova_goe.head()"
   ]
  },
  {
   "cell_type": "code",
   "execution_count": 35,
   "id": "3f306112",
   "metadata": {},
   "outputs": [
    {
     "data": {
      "text/html": [
       "<div>\n",
       "<style scoped>\n",
       "    .dataframe tbody tr th:only-of-type {\n",
       "        vertical-align: middle;\n",
       "    }\n",
       "\n",
       "    .dataframe tbody tr th {\n",
       "        vertical-align: top;\n",
       "    }\n",
       "\n",
       "    .dataframe thead th {\n",
       "        text-align: right;\n",
       "    }\n",
       "</style>\n",
       "<table border=\"1\" class=\"dataframe\">\n",
       "  <thead>\n",
       "    <tr style=\"text-align: right;\">\n",
       "      <th></th>\n",
       "      <th>sum_sq</th>\n",
       "      <th>df</th>\n",
       "      <th>F</th>\n",
       "      <th>PR(&gt;F)</th>\n",
       "    </tr>\n",
       "  </thead>\n",
       "  <tbody>\n",
       "    <tr>\n",
       "      <th>C(AbGroup)</th>\n",
       "      <td>1.400720e+08</td>\n",
       "      <td>1.0</td>\n",
       "      <td>9.231867</td>\n",
       "      <td>0.002380</td>\n",
       "    </tr>\n",
       "    <tr>\n",
       "      <th>C(network_name)</th>\n",
       "      <td>5.276996e+05</td>\n",
       "      <td>1.0</td>\n",
       "      <td>0.034780</td>\n",
       "      <td>0.852059</td>\n",
       "    </tr>\n",
       "    <tr>\n",
       "      <th>C(AbGroup):C(network_name)</th>\n",
       "      <td>2.166130e+07</td>\n",
       "      <td>1.0</td>\n",
       "      <td>1.427653</td>\n",
       "      <td>0.232154</td>\n",
       "    </tr>\n",
       "    <tr>\n",
       "      <th>Residual</th>\n",
       "      <td>6.889604e+11</td>\n",
       "      <td>45408.0</td>\n",
       "      <td>NaN</td>\n",
       "      <td>NaN</td>\n",
       "    </tr>\n",
       "  </tbody>\n",
       "</table>\n",
       "</div>"
      ],
      "text/plain": [
       "                                  sum_sq       df         F    PR(>F)\n",
       "C(AbGroup)                  1.400720e+08      1.0  9.231867  0.002380\n",
       "C(network_name)             5.276996e+05      1.0  0.034780  0.852059\n",
       "C(AbGroup):C(network_name)  2.166130e+07      1.0  1.427653  0.232154\n",
       "Residual                    6.889604e+11  45408.0       NaN       NaN"
      ]
     },
     "execution_count": 35,
     "metadata": {},
     "output_type": "execute_result"
    }
   ],
   "source": [
    "model = ols('gold_on_event ~ C(AbGroup) + C(network_name) + C(AbGroup):C(network_name)', data=anova_goe).fit()\n",
    "sm.stats.anova_lm(model, typ=2)"
   ]
  },
  {
   "cell_type": "markdown",
   "id": "5bdd11bb",
   "metadata": {},
   "source": [
    "Фактор AbGroup: с вероятностью 95% принимаем, что траты золота на ивенте зависит от группы A/B - теста.\n",
    "\n",
    "Фактор network_name: с вероятностью 95% принимаем, что способ установления игры (по переходу с рекламы (Paid) или нет (Organic)) не влияет на траты зоволта во время ивента.\n",
    "\n",
    "* Изучим влияния факторов 'AbGroup' и 'netwotk_name' на показатель 'gold_on_other_activities'"
   ]
  },
  {
   "cell_type": "code",
   "execution_count": 36,
   "id": "a232b4e8",
   "metadata": {},
   "outputs": [
    {
     "data": {
      "text/html": [
       "<div>\n",
       "<style scoped>\n",
       "    .dataframe tbody tr th:only-of-type {\n",
       "        vertical-align: middle;\n",
       "    }\n",
       "\n",
       "    .dataframe tbody tr th {\n",
       "        vertical-align: top;\n",
       "    }\n",
       "\n",
       "    .dataframe thead th {\n",
       "        text-align: right;\n",
       "    }\n",
       "</style>\n",
       "<table border=\"1\" class=\"dataframe\">\n",
       "  <thead>\n",
       "    <tr style=\"text-align: right;\">\n",
       "      <th></th>\n",
       "      <th>AbGroup</th>\n",
       "      <th>network_name</th>\n",
       "      <th>gold_on_other_activities</th>\n",
       "    </tr>\n",
       "  </thead>\n",
       "  <tbody>\n",
       "    <tr>\n",
       "      <th>7</th>\n",
       "      <td>Test</td>\n",
       "      <td>Paid</td>\n",
       "      <td>1200.0</td>\n",
       "    </tr>\n",
       "    <tr>\n",
       "      <th>10</th>\n",
       "      <td>Test</td>\n",
       "      <td>Paid</td>\n",
       "      <td>1700.0</td>\n",
       "    </tr>\n",
       "    <tr>\n",
       "      <th>12</th>\n",
       "      <td>Control</td>\n",
       "      <td>Organic</td>\n",
       "      <td>200.0</td>\n",
       "    </tr>\n",
       "    <tr>\n",
       "      <th>13</th>\n",
       "      <td>Control</td>\n",
       "      <td>Organic</td>\n",
       "      <td>250.0</td>\n",
       "    </tr>\n",
       "    <tr>\n",
       "      <th>17</th>\n",
       "      <td>Control</td>\n",
       "      <td>Paid</td>\n",
       "      <td>600.0</td>\n",
       "    </tr>\n",
       "  </tbody>\n",
       "</table>\n",
       "</div>"
      ],
      "text/plain": [
       "    AbGroup network_name  gold_on_other_activities\n",
       "7      Test         Paid                    1200.0\n",
       "10     Test         Paid                    1700.0\n",
       "12  Control      Organic                     200.0\n",
       "13  Control      Organic                     250.0\n",
       "17  Control         Paid                     600.0"
      ]
     },
     "execution_count": 36,
     "metadata": {},
     "output_type": "execute_result"
    }
   ],
   "source": [
    "anova_gooa = df[['AbGroup', 'network_name', 'gold_on_other_activities']]\n",
    "anova_gooa = anova_gooa[anova_gooa.gold_on_other_activities.isna()==False]\n",
    "anova_gooa.head()"
   ]
  },
  {
   "cell_type": "code",
   "execution_count": 37,
   "id": "124a32dc",
   "metadata": {},
   "outputs": [
    {
     "data": {
      "text/html": [
       "<div>\n",
       "<style scoped>\n",
       "    .dataframe tbody tr th:only-of-type {\n",
       "        vertical-align: middle;\n",
       "    }\n",
       "\n",
       "    .dataframe tbody tr th {\n",
       "        vertical-align: top;\n",
       "    }\n",
       "\n",
       "    .dataframe thead th {\n",
       "        text-align: right;\n",
       "    }\n",
       "</style>\n",
       "<table border=\"1\" class=\"dataframe\">\n",
       "  <thead>\n",
       "    <tr style=\"text-align: right;\">\n",
       "      <th></th>\n",
       "      <th>sum_sq</th>\n",
       "      <th>df</th>\n",
       "      <th>F</th>\n",
       "      <th>PR(&gt;F)</th>\n",
       "    </tr>\n",
       "  </thead>\n",
       "  <tbody>\n",
       "    <tr>\n",
       "      <th>C(AbGroup)</th>\n",
       "      <td>4.104084e+08</td>\n",
       "      <td>1.0</td>\n",
       "      <td>33.075445</td>\n",
       "      <td>8.880414e-09</td>\n",
       "    </tr>\n",
       "    <tr>\n",
       "      <th>C(network_name)</th>\n",
       "      <td>5.726457e+07</td>\n",
       "      <td>1.0</td>\n",
       "      <td>4.615040</td>\n",
       "      <td>3.169417e-02</td>\n",
       "    </tr>\n",
       "    <tr>\n",
       "      <th>C(AbGroup):C(network_name)</th>\n",
       "      <td>1.094575e+08</td>\n",
       "      <td>1.0</td>\n",
       "      <td>8.821351</td>\n",
       "      <td>2.977682e-03</td>\n",
       "    </tr>\n",
       "    <tr>\n",
       "      <th>Residual</th>\n",
       "      <td>2.086931e+12</td>\n",
       "      <td>168189.0</td>\n",
       "      <td>NaN</td>\n",
       "      <td>NaN</td>\n",
       "    </tr>\n",
       "  </tbody>\n",
       "</table>\n",
       "</div>"
      ],
      "text/plain": [
       "                                  sum_sq        df          F        PR(>F)\n",
       "C(AbGroup)                  4.104084e+08       1.0  33.075445  8.880414e-09\n",
       "C(network_name)             5.726457e+07       1.0   4.615040  3.169417e-02\n",
       "C(AbGroup):C(network_name)  1.094575e+08       1.0   8.821351  2.977682e-03\n",
       "Residual                    2.086931e+12  168189.0        NaN           NaN"
      ]
     },
     "execution_count": 37,
     "metadata": {},
     "output_type": "execute_result"
    }
   ],
   "source": [
    "model = ols('gold_on_other_activities ~ C(AbGroup) + C(network_name) + C(AbGroup):C(network_name)', data=anova_gooa).fit()\n",
    "sm.stats.anova_lm(model, typ=2)"
   ]
  },
  {
   "cell_type": "markdown",
   "id": "7d560840",
   "metadata": {},
   "source": [
    "Фактор AbGroup: с вероятностью 95% принимаем, что траты золота на ивенте зависит от группы A/B - теста.\n",
    "\n",
    "Фактор network_name: с вероятностью 95% принимаем, что способ установления игры (по переходу с рекламы (Paid) или нет (Organic)) влияет на траты зоволта во время ивента. Те кто установили игру с перехода по рекламе тратят меньше.\n",
    "\n",
    "Так же наблюдается статистически значимое взаимодействие этих факторов."
   ]
  },
  {
   "cell_type": "code",
   "execution_count": 38,
   "id": "8ab06ba6",
   "metadata": {},
   "outputs": [
    {
     "data": {
      "text/plain": [
       "network_name\n",
       "Organic    926.841118\n",
       "Paid       898.431679\n",
       "Name: gold_on_other_activities, dtype: float64"
      ]
     },
     "execution_count": 38,
     "metadata": {},
     "output_type": "execute_result"
    }
   ],
   "source": [
    "als = df[(df.gold_on_other_activities <= 70000)]\n",
    "als.groupby('network_name').gold_on_other_activities.mean()"
   ]
  },
  {
   "cell_type": "markdown",
   "id": "082147cc",
   "metadata": {},
   "source": [
    "Фактор - platform, изучить влияние невозможно, так как в таблице представлены только пользователи из itunes.\n",
    "\n",
    "Фактор - event_name, изучить влияние невозможно, так как в таблице представлены только значения ResourceSpend."
   ]
  },
  {
   "cell_type": "markdown",
   "id": "a33b5b9d",
   "metadata": {},
   "source": [
    "# Выводы:\n",
    "* Соотношение уникальных пользователей в контрольной и тестовой группах равняется 4/1\n",
    "* В первые 4 дня наблюдался простой в активности\n",
    "* Были обнаружены сильные выбросы в тратах золота на ивенте и тратах золота на иные активности\n",
    "* Была выявленя явня разность в трате игровой валюты на ивенте(золото) в тестовой и контрольной группе. В тесторой группе траты золота вырасли на 65.59 - 66.28 ед. золота с 99% вероятностью\n",
    "* Была выявленя явня разность в трате игровой валюты на иные активности (золото) в тестовой и контрольной группе. В тесторой группе траты золота вырасли на 29.73 - 30.15 ед. золота с 99% вероятностью\n",
    "* Фактор 'network_name' не оказывает влияния на трату игровой валюты (золота) во время ивента\n",
    "* Фактор 'network_name' оказывает влияния на трату игровой валюты (золота) на иные активности (те кто установили игру с перехода по рекламе тратят меньше)"
   ]
  }
 ],
 "metadata": {
  "kernelspec": {
   "display_name": "Python 3 (ipykernel)",
   "language": "python",
   "name": "python3"
  },
  "language_info": {
   "codemirror_mode": {
    "name": "ipython",
    "version": 3
   },
   "file_extension": ".py",
   "mimetype": "text/x-python",
   "name": "python",
   "nbconvert_exporter": "python",
   "pygments_lexer": "ipython3",
   "version": "3.9.13"
  }
 },
 "nbformat": 4,
 "nbformat_minor": 5
}
